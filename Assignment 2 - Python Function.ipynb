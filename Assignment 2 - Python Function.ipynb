{
 "cells": [
  {
   "cell_type": "markdown",
   "metadata": {},
   "source": [
    "## Problem Statement"
   ]
  },
  {
   "cell_type": "markdown",
   "metadata": {},
   "source": [
    "Q.1 Write a Python Program to implement your own myreduce() function which works exactly like\n",
    "Python's built-in function reduce()\n"
   ]
  },
  {
   "cell_type": "code",
   "execution_count": 139,
   "metadata": {},
   "outputs": [
    {
     "name": "stdout",
     "output_type": "stream",
     "text": [
      "15\n"
     ]
    }
   ],
   "source": [
    "def summation(x1, x2): \n",
    "    return x1 + x2\n",
    "\n",
    "def myreduce(func, seq):\n",
    "    out = seq[0]\n",
    "    for i in seq[1:]:\n",
    "        out = func(out, i)\n",
    "    return out\n",
    "\n",
    "print(myreduce(summation, [3, 2, 4, 6]))"
   ]
  },
  {
   "cell_type": "markdown",
   "metadata": {},
   "source": [
    "Q.2 Write a Python program to implement your own myfilter() function which works exactly like\n",
    "Python's built-in function filter()"
   ]
  },
  {
   "cell_type": "code",
   "execution_count": 156,
   "metadata": {},
   "outputs": [
    {
     "name": "stdout",
     "output_type": "stream",
     "text": [
      "[3, 100, 2, 4]\n"
     ]
    }
   ],
   "source": [
    "# Custom filter function \n",
    "result = []\n",
    "\n",
    "def ispositive(x):\n",
    " if (x > 0): \n",
    "  return True\n",
    " else: \n",
    "  return False \n",
    "\n",
    "def myfilter(func, seq):\n",
    "\n",
    "    for i in seq:\n",
    "        if func(i):\n",
    "            result.append(i)\n",
    "\n",
    "    return result\n",
    "\n",
    "print(myfilter(ispositive, [3, -2, -100, 100, 2, 4, 0]))"
   ]
  },
  {
   "cell_type": "markdown",
   "metadata": {},
   "source": [
    "Q.3 Implement List comprehensions to produce the following lists.\n",
    "   Write List comprehensions to produce the following Lists\n",
    "   \n",
    "    ['A', 'C', 'A', 'D', 'G', 'I', ’L’, ‘ D’]\n",
    "   \n",
    "    ['x', 'xx', 'xxx', 'xxxx', 'y', 'yy', 'yyy', 'yyyy', 'z', 'zz', 'zzz', 'zzzz']\n",
    "\n",
    "    ['x', 'y', 'z', 'xx', 'yy', 'zz', 'xx', 'yy', 'zz', 'xxxx', 'yyyy', 'zzzz']\n",
    "    \n",
    "    [[2], [3], [4], [3], [4], [5], [4], [5], [6]]\n",
    "\n",
    "    [[2, 3, 4, 5], [3, 4, 5, 6], [4, 5, 6, 7], [5, 6, 7, 8]]\n",
    "\n",
    "    [(1, 1), (2, 1), (3, 1), (1, 2), (2, 2), (3, 2), (1, 3), (2, 3), (3, 3)]"
   ]
  },
  {
   "cell_type": "code",
   "execution_count": 60,
   "metadata": {},
   "outputs": [
    {
     "name": "stdout",
     "output_type": "stream",
     "text": [
      "['A', 'C', 'A', 'D', 'G', 'I', 'L', 'D']\n",
      "['x', 'xx', 'xxx', 'xxxx', 'y', 'yy', 'yyy', 'yyyy', 'z', 'zz', 'zzz', 'zzzz']\n",
      "['x', 'y', 'z', 'xx', 'yy', 'zz', 'xxx', 'yyy', 'zzz', 'xxxx', 'yyyy', 'zzzz']\n",
      "[[2, 3, 4, 5], [3, 4, 5, 6], [4, 5, 6, 7], [5, 6, 7, 8]]\n",
      "[(1, 1), (2, 1), (3, 1), (1, 2), (2, 2), (3, 2), (1, 3), (2, 3), (3, 3)]\n"
     ]
    }
   ],
   "source": [
    "input = 'ACADGILD'\n",
    "alphabet = [ alphabet for alphabet in input ]\n",
    "print (str(alphabet))\n",
    "\n",
    "input= ['x','y','z']\n",
    "result = [ item*num for item in input for num in range(1,5)  ]\n",
    "print(str(result))\n",
    "\n",
    "\n",
    "input = ['x','y','z']\n",
    "result = [ item*num for num in range(1,5) for item in input]\n",
    "print(str(result))\n",
    "\n",
    "input = [2,3,4,5]\n",
    "result = [ [item+num for item in input] for num in range(0,4)  ]\n",
    "print(str(result))\n",
    "\n",
    "input=[1,2,3]\n",
    "result = [ (b,a) for a in input for b in input_list]\n",
    "print(str(result))\n"
   ]
  },
  {
   "cell_type": "markdown",
   "metadata": {},
   "source": [
    "Q.4 Implement a function longestWord() that takes a list of words and returns the longest one."
   ]
  },
  {
   "cell_type": "code",
   "execution_count": 67,
   "metadata": {},
   "outputs": [
    {
     "name": "stdout",
     "output_type": "stream",
     "text": [
      "Publication\n"
     ]
    }
   ],
   "source": [
    "def longestWord(list):\n",
    "       list = sorted(list, key=len, reverse=True)\n",
    "       return list[0]\n",
    "\n",
    "list1 = ['World', 'Wonderful', 'Beautiful', 'Publication']\n",
    "print(longestWord(list1))\n",
    "   "
   ]
  },
  {
   "cell_type": "markdown",
   "metadata": {},
   "source": [
    "Q.5 Write a Python Program(with class concepts) to find the area of the triangle using the below\n",
    "formula.\n",
    "\n",
    "area = (s*(s-a)*(s-b)*(s-c)) ** 0.5\n",
    "\n",
    "Function to take the length of the sides of triangle from user should be defined in the parent\n",
    "class and function to calculate the area should be defined in subclass."
   ]
  },
  {
   "cell_type": "code",
   "execution_count": 168,
   "metadata": {},
   "outputs": [
    {
     "name": "stdout",
     "output_type": "stream",
     "text": [
      "11.976539567003485\n"
     ]
    }
   ],
   "source": [
    "a = int(4)\n",
    "b = int(7)\n",
    "c = int(6)\n",
    "class Triangle():\n",
    " \n",
    "    def __init__(self,a,b,c):\n",
    "        self.a = a\n",
    "        self.b = b\n",
    "        self.c = c\n",
    " \n",
    "    def area(self):\n",
    "        s=(a + b + c)/2\n",
    "        return((s*(s-self.a)*(s-self.b)*(s-self.c))**0.5)\n",
    " \n",
    "t = Triangle(a, b, c)\n",
    "print(t.area())\n"
   ]
  },
  {
   "cell_type": "markdown",
   "metadata": {},
   "source": [
    "Q.6 Write a function filter_long_words() that takes a list of words and an integer n and returns the list\n",
    "of words that are longer than n."
   ]
  },
  {
   "cell_type": "code",
   "execution_count": 121,
   "metadata": {},
   "outputs": [
    {
     "name": "stdout",
     "output_type": "stream",
     "text": [
      "['Exercises', 'Backendserver']\n"
     ]
    }
   ],
   "source": [
    "word_len = []\n",
    "n=4\n",
    "def filter_long_words(words_list):\n",
    "    \n",
    "    for i in words_list:\n",
    "        if len(i) >= n:\n",
    "            word_len.append(i)\n",
    "\n",
    "filter_long_words([\"PHP\", \"Exercises\", \"Backendserver\"])\n",
    "print(word_len)"
   ]
  },
  {
   "cell_type": "markdown",
   "metadata": {},
   "source": [
    "Q.7 Write a Python program using function concept that maps list of words into a list of integers\n",
    "representing the lengths of the corresponding words.\n",
    "    \n",
    "    Hint: If a list [ ab,cde,erty] is passed on to the python function output should come as [2,3,4]\n",
    "    Here 2,3 and 4 are the lengths of the words in the list."
   ]
  },
  {
   "cell_type": "code",
   "execution_count": 120,
   "metadata": {},
   "outputs": [
    {
     "name": "stdout",
     "output_type": "stream",
     "text": [
      "[3, 9, 13]\n"
     ]
    }
   ],
   "source": [
    "word_len = []\n",
    "def len_words(words_list):\n",
    "    \n",
    "    for n in words_list:\n",
    "        a= len(n)\n",
    "        word_len.append(a)\n",
    "\n",
    "len_words([\"PHP\", \"Exercises\", \"Backendserver\"])\n",
    "print(word_len)"
   ]
  },
  {
   "cell_type": "markdown",
   "metadata": {},
   "source": [
    "Q.8 Write a Python function which takes a character (i.e. a string of length 1) and returns True if it is\n",
    "a vowel, False otherwise."
   ]
  },
  {
   "cell_type": "code",
   "execution_count": 119,
   "metadata": {},
   "outputs": [
    {
     "name": "stdout",
     "output_type": "stream",
     "text": [
      "True\n",
      "False\n"
     ]
    }
   ],
   "source": [
    "def vowel(string):\n",
    "    if(string=='a' or string=='A' or string=='e' or string=='E' or string=='i' or string=='I' or string=='o' or string=='O'\n",
    "       or string=='u' or string=='U'):\n",
    "        print(\"True\")\n",
    "    else:\n",
    "        print(\"False\")\n",
    "\n",
    "string = 'a'\n",
    "vowel(string)\n",
    "\n",
    "string = 'b'\n",
    "vowel(string)\n"
   ]
  },
  {
   "cell_type": "markdown",
   "metadata": {},
   "source": [
    "## Great job!"
   ]
  }
 ],
 "metadata": {
  "kernelspec": {
   "display_name": "Python 3",
   "language": "python",
   "name": "python3"
  },
  "language_info": {
   "codemirror_mode": {
    "name": "ipython",
    "version": 3
   },
   "file_extension": ".py",
   "mimetype": "text/x-python",
   "name": "python",
   "nbconvert_exporter": "python",
   "pygments_lexer": "ipython3",
   "version": "3.7.4"
  }
 },
 "nbformat": 4,
 "nbformat_minor": 2
}
